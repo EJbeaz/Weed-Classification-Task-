{
 "cells": [
  {
   "cell_type": "code",
   "execution_count": 24,
   "id": "2f978e95",
   "metadata": {},
   "outputs": [
    {
     "name": "stdout",
     "output_type": "stream",
     "text": [
      "cleavers\n",
      ".DS_Store\n",
      "charlock\n"
     ]
    }
   ],
   "source": [
    "import cv2\n",
    "import os\n",
    "import sys\n",
    "import numpy as np\n",
    "import math\n",
    "import matplotlib.pyplot as plt\n",
    "\n",
    "rtDirectory = '/Users/ejbeazleigh/Downloads/ImageProcessing/WeedData'\n",
    "train = []\n",
    "labels = []\n",
    "for weed in os.listdir(os.path.join(rtDirectory, 'train')):\n",
    "    print(weed)\n",
    "    if os.path.isdir(os.path.join(rtDirectory, 'train', weed)):\n",
    "        for img in os.listdir(os.path.join(rtDirectory, 'train', weed)):\n",
    "            if img.endswith(\".jpg\") or img.endswith(\".png\"):  # Adjust the file extensions as per your image types\n",
    "                train.append(cv2.imread(os.path.join(rtDirectory, 'train', weed, img)))\n",
    "                labels.append(weed)\n",
    "\n",
    "new_size = (236, 236)\n",
    "########## pre processing adaptive thresholding\n",
    "\n",
    "def apply_adaptive_threshold(img):\n",
    "    # convert BGR img to gray level\n",
    "    gray = cv2.cvtColor(img, cv2.COLOR_BGR2GRAY)\n",
    "    # apply adaptive thresholding\n",
    "    threshold = cv2.adaptiveThreshold(gray, 255, cv2.ADAPTIVE_THRESH_MEAN_C, cv2.THRESH_BINARY_INV, 11, 2)\n",
    "    # bitwise AND operation to remove background\n",
    "    img = cv2.bitwise_and(img, img, mask=threshold)\n",
    "    return img\n",
    "ProcessedImages = []\n",
    "for img in train:\n",
    "    img = cv2.resize(img, new_size)\n",
    "    img = cv2.fastNlMeansDenoising(img)\n",
    "    img = apply_adaptive_threshold(img)\n",
    "    ProcessedImages.append(img)\n",
    "\n"
   ]
  },
  {
   "cell_type": "code",
   "execution_count": 25,
   "id": "10a525e2",
   "metadata": {},
   "outputs": [
    {
     "name": "stdout",
     "output_type": "stream",
     "text": [
      "cleavers\n",
      ".DS_Store\n",
      "charlock\n"
     ]
    }
   ],
   "source": [
    "test = []\n",
    "testlabels = []\n",
    "for weed in os.listdir(os.path.join(rtDirectory, 'test')):\n",
    "    print(weed)\n",
    "    if os.path.isdir(os.path.join(rtDirectory, 'test', weed)):\n",
    "        for img in os.listdir(os.path.join(rtDirectory, 'test', weed)):\n",
    "            if img.endswith(\".jpg\") or img.endswith(\".png\"):  # Adjust the file extensions as per your image types\n",
    "                test.append(cv2.imread(os.path.join(rtDirectory, 'test', weed, img)))\n",
    "                testlabels.append(weed)\n",
    "\n",
    "def processfunc(img):\n",
    "    processingfunc = []\n",
    "    for i in img:\n",
    "        img = cv2.resize(i, (236, 236))\n",
    "        img = cv2.fastNlMeansDenoising(img)\n",
    "        processingfunc.append(img)\n",
    "        img = apply_adaptive_threshold(img)\n",
    "    return processingfunc \n",
    "\n",
    "test = processfunc(test)"
   ]
  },
  {
   "cell_type": "code",
   "execution_count": 26,
   "id": "a51f6007",
   "metadata": {},
   "outputs": [
    {
     "name": "stdout",
     "output_type": "stream",
     "text": [
      "(480, 3) (480,)\n",
      "(158, 3) (158,)\n"
     ]
    }
   ],
   "source": [
    "######################### RGB feature extraction  ##########################\n",
    "#### Feature extraction 1 - RGB\n",
    "RGBtrainvals = []\n",
    "for img in train:\n",
    "    rgb = np.mean(np.array(img), axis=(0, 1))\n",
    "    RGBtrainvals.append(rgb)\n",
    "# Convert lists to numpy arrays\n",
    "X_train = np.array(RGBtrainvals)\n",
    "y_train = np.array(labels)\n",
    "# Check the dimension of X_train and y_train\n",
    "print(X_train.shape, y_train.shape)\n",
    "RGBtestvals = []\n",
    "for img in test:\n",
    "    rgb = np.mean(np.array(img), axis=(0, 1))\n",
    "    RGBtestvals.append(rgb)\n",
    "# Convert lists to numpy arrays\n",
    "X_test = np.array(RGBtestvals)\n",
    "y_test = np.array(testlabels)\n",
    "# Check the dimension of X_test and y_test\n",
    "print(X_test.shape, y_test.shape)"
   ]
  },
  {
   "cell_type": "code",
   "execution_count": 28,
   "id": "e52de3de",
   "metadata": {},
   "outputs": [
    {
     "name": "stdout",
     "output_type": "stream",
     "text": [
      "Test Accuracy: 0.8227848101265823\n",
      "Best Hyperparameters: {'C': 0.1, 'gamma': 0.1, 'kernel': 'linear'}\n"
     ]
    }
   ],
   "source": [
    "from sklearn.model_selection import GridSearchCV\n",
    "from sklearn.linear_model import LogisticRegression\n",
    "from sklearn.metrics import accuracy_score\n",
    "import numpy as np\n",
    "# Hyperparameter tuning using GridSearchCV\n",
    "param_grid = {'C': [0.1, 1, 10],'gamma': [0.1, 0.01, 0.001],'kernel': ['linear', 'rbf']}\n",
    "svm = SVC()\n",
    "grid_search = GridSearchCV(svm, param_grid, cv=5, scoring='accuracy')\n",
    "grid_search.fit(X_train, y_train)\n",
    "# Access the best hyperparameters and the best estimator\n",
    "best_params = grid_search.best_params_\n",
    "best_estimator = grid_search.best_estimator_\n",
    "# Use the best estimator to make predictions on the test data\n",
    "y_pred = best_estimator.predict(X_test)\n",
    "# Evaluate the performance of the best estimator\n",
    "accuracy = accuracy_score(y_test, y_pred)\n",
    "print(\"Test Accuracy:\", accuracy)\n",
    "# Print the best hyperparameters\n",
    "print(\"Best Hyperparameters:\", best_params)"
   ]
  },
  {
   "cell_type": "code",
   "execution_count": 33,
   "id": "0f0de96e",
   "metadata": {},
   "outputs": [
    {
     "name": "stdout",
     "output_type": "stream",
     "text": [
      "Test Accuracy: 0.8227848101265823\n",
      "F1-score: 0.8204160189503296\n",
      "Precision: 0.8249890877346139\n",
      "Recall: 0.8227848101265823\n"
     ]
    },
    {
     "data": {
      "image/png": "[encoded data removed]",
      "text/plain": [
       "<Figure size 1000x500 with 2 Axes>"
      ]
     },
     "metadata": {},
     "output_type": "display_data"
    }
   ],
   "source": [
    "from sklearn.metrics import accuracy_score, f1_score, precision_score, recall_score, confusion_matrix\n",
    "import matplotlib.pyplot as plt\n",
    "from sklearn.metrics import ConfusionMatrixDisplay\n",
    "# Create a new instance of SVM with the best hyperparameters\n",
    "best_params = {'C': 0.1, 'gamma': 0.1, 'kernel': 'linear'}\n",
    "svm_best = SVC(**best_params)\n",
    "# Fit the model to the training data\n",
    "svm_best.fit(X_train, y_train)\n",
    "# Predict the labels in the test dataset\n",
    "test_predictions = svm_best.predict(X_test)\n",
    "# Calculate the scoring metrics\n",
    "test_accuracy = accuracy_score(y_test, test_predictions)\n",
    "f1 = f1_score(y_test, test_predictions, average='weighted')\n",
    "precision = precision_score(y_test, test_predictions, average='weighted')\n",
    "recall = recall_score(y_test, test_predictions, average='weighted')\n",
    "# Print the scoring metrics\n",
    "print(\"Test Accuracy:\", test_accuracy)\n",
    "print(\"F1-score:\", f1)\n",
    "print(\"Precision:\", precision)\n",
    "print(\"Recall:\", recall)\n",
    "# Confusion Matrix\n",
    "cm = confusion_matrix(y_test, test_predictions)\n",
    "disp = ConfusionMatrixDisplay(confusion_matrix=cm, display_labels=label_mapping.keys())\n",
    "fig, ax = plt.subplots(figsize=(10, 5))\n",
    "disp.plot(ax=ax)\n",
    "plt.show()"
   ]
  },
  {
   "cell_type": "code",
   "execution_count": 32,
   "id": "4bf2ad1e",
   "metadata": {},
   "outputs": [
    {
     "name": "stdout",
     "output_type": "stream",
     "text": [
      "Test Accuracy: 0.8227848101265823\n",
      "F1-score: 0.8204160189503296\n",
      "Precision: 0.8249890877346139\n",
      "Recall: 0.8227848101265823\n"
     ]
    },
    {
     "data": {
      "image/png": "[encoded data removed]",
      "text/plain": [
       "<Figure size 1000x500 with 2 Axes>"
      ]
     },
     "metadata": {},
     "output_type": "display_data"
    }
   ],
   "source": [
    "# Print the scoring metrics\n",
    "print(\"Test Accuracy:\", test_accuracy)\n",
    "print(\"F1-score:\", f1)\n",
    "print(\"Precision:\", precision)\n",
    "print(\"Recall:\", recall)\n",
    "# Confusion Matrix\n",
    "cm = confusion_matrix(y_test, test_predictions)\n",
    "disp = ConfusionMatrixDisplay(confusion_matrix=cm, display_labels=label_mapping.keys())\n",
    "fig, ax = plt.subplots(figsize=(10, 5))\n",
    "disp.plot(ax=ax)\n",
    "plt.show()"
   ]
  },
  {
   "cell_type": "code",
   "execution_count": null,
   "id": "d0c0b9cb",
   "metadata": {},
   "outputs": [],
   "source": []
  }
 ],
 "metadata": {
  "kernelspec": {
   "display_name": "Python 3 (ipykernel)",
   "language": "python",
   "name": "python3"
  },
  "language_info": {
   "codemirror_mode": {
    "name": "ipython",
    "version": 3
   },
   "file_extension": ".py",
   "mimetype": "text/x-python",
   "name": "python",
   "nbconvert_exporter": "python",
   "pygments_lexer": "ipython3",
   "version": "3.11.0"
  }
 },
 "nbformat": 4,
 "nbformat_minor": 5
}
