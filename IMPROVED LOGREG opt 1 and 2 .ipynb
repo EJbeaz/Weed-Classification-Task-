{
 "cells": [
  {
   "cell_type": "code",
   "execution_count": 1,
   "id": "0ffd4592",
   "metadata": {},
   "outputs": [
    {
     "name": "stdout",
     "output_type": "stream",
     "text": [
      "cleavers\n",
      ".DS_Store\n",
      "charlock\n"
     ]
    }
   ],
   "source": [
    "import cv2\n",
    "import os\n",
    "import sys\n",
    "import numpy as np\n",
    "import math\n",
    "import matplotlib.pyplot as plt\n",
    "\n",
    "rtDirectory = '/Users/ejbeazleigh/Downloads/ImageProcessing/WeedData'\n",
    "train = []\n",
    "labels = []\n",
    "for weed in os.listdir(os.path.join(rtDirectory, 'train')):\n",
    "    print(weed)\n",
    "    if os.path.isdir(os.path.join(rtDirectory, 'train', weed)):\n",
    "        for img in os.listdir(os.path.join(rtDirectory, 'train', weed)):\n",
    "            if img.endswith(\".jpg\") or img.endswith(\".png\"):  # Adjust the file extensions as per your image types\n",
    "                train.append(cv2.imread(os.path.join(rtDirectory, 'train', weed, img)))\n",
    "                labels.append(weed)\n",
    "new_size = (236, 236)"
   ]
  },
  {
   "cell_type": "code",
   "execution_count": 2,
   "id": "b4f49c22",
   "metadata": {},
   "outputs": [],
   "source": [
    "########## pre processing 2 - contrast enhancement \n",
    "def power_law_transform(img, c, gamma):\n",
    "    # convert BGR img to gray level\n",
    "    gray =  cv2.cvtColor(img, cv2.COLOR_BGR2GRAY)\n",
    "    # apply power-law function\n",
    "    gray = c*(gray**gamma)\n",
    "    # convert gray level range to [0,255]\n",
    "    gray = (255/(gray.max()-gray.min())*(gray - gray.min())).astype(np.uint8)\n",
    "    # convert gray level img to BGR\n",
    "    img = cv2.cvtColor(gray,cv2.COLOR_GRAY2BGR)\n",
    "    return img\n",
    "ProcessedImages = []\n",
    "for img in train:\n",
    "    img = cv2.resize(img,new_size)\n",
    "    img = cv2.fastNlMeansDenoising(img)\n",
    "    img = power_law_transform(img,1,0.5)\n",
    "    ProcessedImages.append(img)"
   ]
  },
  {
   "cell_type": "code",
   "execution_count": 3,
   "id": "e3652d9b",
   "metadata": {},
   "outputs": [],
   "source": [
    "####### pre processing 3 - noise reduction \n",
    "\n",
    "ProcessedImages = []\n",
    "for img in train:\n",
    "    img = cv2.resize(img,new_size)\n",
    "    img = cv2.fastNlMeansDenoising(img)\n",
    "    img = power_law_transform(img,1,0.5)\n",
    "    ProcessedImages.append(img)"
   ]
  },
  {
   "cell_type": "code",
   "execution_count": 6,
   "id": "c3267e23",
   "metadata": {},
   "outputs": [
    {
     "name": "stdout",
     "output_type": "stream",
     "text": [
      "cleavers\n",
      ".DS_Store\n",
      "charlock\n"
     ]
    }
   ],
   "source": [
    "test = []\n",
    "testlabels = []\n",
    "for weed in os.listdir(os.path.join(rtDirectory, 'test')):\n",
    "    print(weed)\n",
    "    if os.path.isdir(os.path.join(rtDirectory, 'test', weed)):\n",
    "        for img in os.listdir(os.path.join(rtDirectory, 'test', weed)):\n",
    "            if img.endswith(\".jpg\") or img.endswith(\".png\"):  # Adjust the file extensions as per your image types\n",
    "                test.append(cv2.imread(os.path.join(rtDirectory, 'test', weed, img)))\n",
    "                testlabels.append(weed)\n",
    "\n",
    "def processfunc(img):\n",
    "    processingfunc = []\n",
    "    for i in img:\n",
    "        img = cv2.resize(i, (236, 236))\n",
    "        img = cv2.fastNlMeansDenoising(img)\n",
    "        processingfunc.append(img)\n",
    "    return processingfunc \n",
    "\n",
    "test = processfunc(test)\n",
    "\n"
   ]
  },
  {
   "cell_type": "code",
   "execution_count": 11,
   "id": "5aa83239",
   "metadata": {},
   "outputs": [
    {
     "name": "stdout",
     "output_type": "stream",
     "text": [
      "(480, 3) (480,)\n",
      "(158, 3) (158,)\n",
      "(480, 6) (158, 6)\n"
     ]
    }
   ],
   "source": [
    "#########################OPTION 2 RGB + HCD  +HYPERTUNING ##########################\n",
    "import cv2\n",
    "import numpy as np\n",
    "# Feature extraction using RGB values\n",
    "RGBtrainvals = []\n",
    "for img in train:\n",
    "    rgb = np.mean(np.array(img), axis=(0, 1))\n",
    "    RGBtrainvals.append(rgb)\n",
    "# Convert lists to numpy arrays\n",
    "X_train_rgb = np.array(RGBtrainvals)\n",
    "y_train = np.array(labels)\n",
    "# Check the dimension of X_train and y_train\n",
    "print(X_train_rgb.shape, y_train.shape)\n",
    "RGBtestvals = []\n",
    "for img in test:\n",
    "    rgb = np.mean(np.array(img), axis=(0, 1))\n",
    "    RGBtestvals.append(rgb)\n",
    "# Convert lists to numpy arrays\n",
    "X_test_rgb = np.array(RGBtestvals)\n",
    "y_test = np.array(testlabels)\n",
    "# Check the dimension of X_test and y_test\n",
    "print(X_test_rgb.shape, y_test.shape)\n",
    "# Feature extraction using Harris corner detection\n",
    "def harris_corner_detection(img):\n",
    "    gray = cv2.cvtColor(img, cv2.COLOR_BGR2GRAY)\n",
    "    gray = np.float32(gray)\n",
    "    corners = cv2.cornerHarris(gray, 2, 3, 0.04)\n",
    "    corners = cv2.dilate(corners, None)\n",
    "    img[corners > 0.01 * corners.max()] = [0, 0, 255]\n",
    "    return img\n",
    "HarrisTrainVals = []\n",
    "for img in train:\n",
    "    img_harris = harris_corner_detection(img)\n",
    "    rgb_harris = np.mean(np.array(img_harris), axis=(0, 1))\n",
    "    HarrisTrainVals.append(rgb_harris)\n",
    "# Convert lists to numpy arrays\n",
    "X_train_harris = np.array(HarrisTrainVals)\n",
    "HarrisTestVals = []\n",
    "for img in test:\n",
    "    img_harris = harris_corner_detection(img)\n",
    "    rgb_harris = np.mean(np.array(img_harris), axis=(0, 1))\n",
    "    HarrisTestVals.append(rgb_harris)\n",
    "# Convert lists to numpy arrays\n",
    "X_test_harris = np.array(HarrisTestVals)\n",
    "# Concatenate the RGB features and Harris corner detection features\n",
    "X_train = np.concatenate((X_train_rgb, X_train_harris), axis=1)\n",
    "X_test = np.concatenate((X_test_rgb, X_test_harris), axis=1)\n",
    "# Check the dimension of X_train and X_test after feature concatenation\n",
    "print(X_train.shape, X_test.shape)\n"
   ]
  },
  {
   "cell_type": "code",
   "execution_count": 7,
   "id": "70c13e94",
   "metadata": {},
   "outputs": [
    {
     "name": "stdout",
     "output_type": "stream",
     "text": [
      "(480, 3) (480,)\n",
      "(158, 3) (158,)\n"
     ]
    }
   ],
   "source": [
    "#########################OPTION 1 RGB +HYPERTUNING ##########################\n",
    "\n",
    "#### Feature extraction 1 - RGB\n",
    "RGBtrainvals = []\n",
    "for img in train:\n",
    "    rgb = np.mean(np.array(img), axis=(0, 1))\n",
    "    RGBtrainvals.append(rgb)\n",
    "\n",
    "# Convert lists to numpy arrays\n",
    "X_train = np.array(RGBtrainvals)\n",
    "y_train = np.array(labels)\n",
    "\n",
    "# Check the dimension of X_train and y_train\n",
    "print(X_train.shape, y_train.shape)\n",
    "\n",
    "RGBtestvals = []\n",
    "for img in test:\n",
    "    rgb = np.mean(np.array(img), axis=(0, 1))\n",
    "    RGBtestvals.append(rgb)\n",
    "\n",
    "# Convert lists to numpy arrays\n",
    "X_test = np.array(RGBtestvals)\n",
    "y_test = np.array(testlabels)\n",
    "\n",
    "# Check the dimension of X_test and y_test\n",
    "print(X_test.shape, y_test.shape)\n"
   ]
  },
  {
   "cell_type": "code",
   "execution_count": 12,
   "id": "15a33457",
   "metadata": {},
   "outputs": [
    {
     "name": "stdout",
     "output_type": "stream",
     "text": [
      "Test Accuracy: 0.7215189873417721\n",
      "Best Hyperparameters: {'C': 1, 'max_iter': 500, 'penalty': 'l1', 'solver': 'liblinear'}\n"
     ]
    }
   ],
   "source": [
    "########################OPTION 2 RGB + HCD  +HYPERTUNING ##########################\n",
    "#from sklearn.model_selection import GridSearchCV\n",
    "from sklearn.linear_model import LogisticRegression\n",
    "from sklearn.metrics import accuracy_score\n",
    "# Define the hyperparameters and their respective values to search over\n",
    "parameters = {\n",
    "    'C': [0.1, 1, 10],\n",
    "    'penalty': ['l1', 'l2'],\n",
    "    'solver': ['liblinear'],\n",
    "    'max_iter': [500, 1000, 2000]}  # Increase the max_iter value\n",
    "# Create an instance of the Logistic Regression model\n",
    "logistic_regression = LogisticRegression()\n",
    "# Create a GridSearchCV object\n",
    "grid_search = GridSearchCV(logistic_regression, parameters, scoring='accuracy')\n",
    "# Fit the GridSearchCV object to the training data\n",
    "grid_search.fit(X_train_harris, y_train)\n",
    "# Access the best hyperparameters and the best estimator\n",
    "best_params = grid_search.best_params_\n",
    "best_estimator = grid_search.best_estimator_\n",
    "# Use the best estimator to make predictions on the test data\n",
    "y_pred = best_estimator.predict(X_test_harris)\n",
    "# Evaluate the performance of the best estimator\n",
    "accuracy = accuracy_score(y_test, y_pred)\n",
    "print(\"Test Accuracy:\", accuracy)\n",
    "# Print the best hyperparameters\n",
    "print(\"Best Hyperparameters:\", best_params)\n"
   ]
  },
  {
   "cell_type": "code",
   "execution_count": 9,
   "id": "5b2f080e",
   "metadata": {},
   "outputs": [
    {
     "name": "stdout",
     "output_type": "stream",
     "text": [
      "Test Accuracy: 0.8227848101265823\n",
      "Best Hyperparameters: {'C': 10, 'max_iter': 500, 'penalty': 'l1', 'solver': 'liblinear'}\n"
     ]
    }
   ],
   "source": [
    "########################OPTION 1 RGB   +HYPERTUNING ##########################\n",
    "from sklearn.model_selection import GridSearchCV\n",
    "from sklearn.linear_model import LogisticRegression\n",
    "from sklearn.metrics import accuracy_score\n",
    "import numpy as np\n",
    "# Define the hyperparameters and their respective values to search over\n",
    "parameters = {'C': [0.1, 1, 10],'penalty': ['l1', 'l2'],'solver': ['liblinear'],'max_iter': [500, 1000, 2000]}\n",
    "# Create an instance of the Logistic Regression model\n",
    "logistic_regression = LogisticRegression()\n",
    "# Create a GridSearchCV object\n",
    "grid_search = GridSearchCV(logistic_regression, parameters, scoring='accuracy')\n",
    "# Fit the GridSearchCV object to the training data\n",
    "grid_search.fit(X_train, y_train)\n",
    "# Access the best hyperparameters and the best estimator\n",
    "best_params = grid_search.best_params_\n",
    "best_estimator = grid_search.best_estimator_\n",
    "# Use the best estimator to make predictions on the test data\n",
    "y_pred = best_estimator.predict(X_test)\n",
    "# Evaluate the performance of the best estimator\n",
    "accuracy = accuracy_score(y_test, y_pred)\n",
    "print(\"Test Accuracy:\", accuracy)\n",
    "# Print the best hyperparameters\n",
    "print(\"Best Hyperparameters:\", best_params)\n",
    "\n"
   ]
  },
  {
   "cell_type": "code",
   "execution_count": 13,
   "id": "232b5c58",
   "metadata": {},
   "outputs": [
    {
     "name": "stdout",
     "output_type": "stream",
     "text": [
      "Training Accuracy: 0.875\n",
      "Test Accuracy: 0.8227848101265823\n",
      "F1-score: 0.8215535383358985\n",
      "Precision: 0.8227720498162515\n",
      "Recall: 0.8227848101265823\n"
     ]
    },
    {
     "data": {
      "image/png": "[encoded data removed]",
      "text/plain": [
       "<Figure size 1000x500 with 2 Axes>"
      ]
     },
     "metadata": {},
     "output_type": "display_data"
    }
   ],
   "source": [
    "from sklearn.linear_model import LogisticRegression\n",
    "from sklearn.metrics import accuracy_score, f1_score, precision_score, recall_score, confusion_matrix\n",
    "import matplotlib.pyplot as plt\n",
    "from sklearn.metrics import ConfusionMatrixDisplay\n",
    "#########################OPTION 2 RGB + HCD  +HYPERTUNING ##########################\n",
    "# Create a new instance of LogisticRegression with the best hyperparameters\n",
    "best_params = {'C': 10, 'max_iter': 500, 'penalty': 'l1', 'solver': 'liblinear'}\n",
    "LG2 = LogisticRegression(**best_params)\n",
    "# Fit the model to the training data\n",
    "LG2.fit(X_train, y_train)\n",
    "# Model evaluation on training data\n",
    "train_accuracy = LG2.score(X_train, y_train)\n",
    "print(\"Training Accuracy:\", train_accuracy)\n",
    "# Predict the labels in the test dataset\n",
    "y_test_predict = LG2.predict(X_test)\n",
    "# Overall Accuracy,F1sscore, Presicion and Recall \n",
    "test_accuracy = accuracy_score(y_test, y_test_predict)\n",
    "print(\"Test Accuracy:\", test_accuracy)\n",
    "f1 = f1_score(y_test, y_test_predict, average='weighted')\n",
    "print(\"F1-score:\", f1)\n",
    "precision = precision_score(y_test, y_test_predict, average='weighted')\n",
    "print(\"Precision:\", precision)\n",
    "recall = recall_score(y_test, y_test_predict, average='weighted')\n",
    "print(\"Recall:\", recall)\n",
    "# Confusion Matrix\n",
    "cm = confusion_matrix(y_test, y_test_predict)\n",
    "disp = ConfusionMatrixDisplay(confusion_matrix=cm, display_labels=LG2.classes_)\n",
    "fig, ax = plt.subplots(figsize=(10, 5))\n",
    "disp.plot(ax=ax)\n",
    "plt.show()\n"
   ]
  },
  {
   "cell_type": "code",
   "execution_count": 10,
   "id": "9bdc7cf8",
   "metadata": {},
   "outputs": [
    {
     "name": "stdout",
     "output_type": "stream",
     "text": [
      "Training Accuracy: 0.8791666666666667\n",
      "Test Accuracy: 0.8227848101265823\n",
      "F1-score: 0.8210173713977915\n",
      "Precision: 0.8236459140618274\n",
      "Recall: 0.8227848101265823\n"
     ]
    },
    {
     "data": {
      "image/png": "[encoded data removed]",
      "text/plain": [
       "<Figure size 1000x500 with 2 Axes>"
      ]
     },
     "metadata": {},
     "output_type": "display_data"
    }
   ],
   "source": [
    "#########################OPTION 1 RGB +HYPERTUNING ##########################\n",
    "from sklearn.linear_model import LogisticRegression\n",
    "from sklearn.metrics import accuracy_score, f1_score, precision_score, recall_score, confusion_matrix\n",
    "import matplotlib.pyplot as plt\n",
    "from sklearn.metrics import ConfusionMatrixDisplay\n",
    "# Create linear classifier and fit to data\n",
    "LGR = LogisticRegression(random_state=0)\n",
    "LGR.fit(X_train, y_train)\n",
    "# Model evaluation on training data\n",
    "train_accuracy = LGR.score(X_train, y_train)\n",
    "print(\"Training Accuracy:\", train_accuracy)\n",
    "# Predict the labels in the test dataset\n",
    "y_test_predict = LGR.predict(X_test)\n",
    "# Overall Accuracy, F1-score,Precision,Recall\n",
    "test_accuracy = accuracy_score(y_test, y_test_predict)\n",
    "print(\"Test Accuracy:\", test_accuracy)\n",
    "f1 = f1_score(y_test, y_test_predict, average='weighted')\n",
    "print(\"F1-score:\", f1)\n",
    "precision = precision_score(y_test, y_test_predict, average='weighted')\n",
    "print(\"Precision:\", precision)\n",
    "recall = recall_score(y_test, y_test_predict, average='weighted')\n",
    "print(\"Recall:\", recall)\n",
    "# Confusion Matrix\n",
    "cm = confusion_matrix(y_test, y_test_predict)\n",
    "disp = ConfusionMatrixDisplay(confusion_matrix=cm, display_labels=LGR.classes_)\n",
    "fig, ax = plt.subplots(figsize=(10, 5))\n",
    "disp.plot(ax=ax)\n",
    "plt.show()\n"
   ]
  },
  {
   "cell_type": "code",
   "execution_count": null,
   "id": "ad1316b2",
   "metadata": {},
   "outputs": [],
   "source": []
  }
 ],
 "metadata": {
  "kernelspec": {
   "display_name": "Python 3 (ipykernel)",
   "language": "python",
   "name": "python3"
  },
  "language_info": {
   "codemirror_mode": {
    "name": "ipython",
    "version": 3
   },
   "file_extension": ".py",
   "mimetype": "text/x-python",
   "name": "python",
   "nbconvert_exporter": "python",
   "pygments_lexer": "ipython3",
   "version": "3.11.0"
  }
 },
 "nbformat": 4,
 "nbformat_minor": 5
}
