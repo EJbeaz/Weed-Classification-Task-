{
 "cells": [
  {
   "cell_type": "code",
   "execution_count": 1,
   "id": "a3d52ad2",
   "metadata": {},
   "outputs": [
    {
     "name": "stdout",
     "output_type": "stream",
     "text": [
      "cleavers\n",
      ".DS_Store\n",
      "charlock\n"
     ]
    }
   ],
   "source": [
    "import cv2\n",
    "import os\n",
    "import sys\n",
    "import numpy as np\n",
    "import math\n",
    "import matplotlib.pyplot as plt\n",
    "\n",
    "rtDirectory = '/Users/ejbeazleigh/Downloads/ImageProcessing/WeedData'\n",
    "train = []\n",
    "labels = []\n",
    "for weed in os.listdir(os.path.join(rtDirectory, 'train')):\n",
    "    print(weed)\n",
    "    if os.path.isdir(os.path.join(rtDirectory, 'train', weed)):\n",
    "        for img in os.listdir(os.path.join(rtDirectory, 'train', weed)):\n",
    "            if img.endswith(\".jpg\") or img.endswith(\".png\"):  # Adjust the file extensions as per your image types\n",
    "                train.append(cv2.imread(os.path.join(rtDirectory, 'train', weed, img)))\n",
    "                labels.append(weed)\n",
    "new_size = (236, 236)\n",
    "\n"
   ]
  },
  {
   "cell_type": "code",
   "execution_count": 6,
   "id": "79d55149",
   "metadata": {},
   "outputs": [],
   "source": [
    "########## pre processing 2 - contrast enhancement \n",
    "def power_law_transform(img, c, gamma):\n",
    "    # convert BGR img to gray level\n",
    "    gray =  cv2.cvtColor(img, cv2.COLOR_BGR2GRAY)\n",
    "    # apply power-law function\n",
    "    gray = c*(gray**gamma)\n",
    "    # convert gray level range to [0,255]\n",
    "    gray = (255/(gray.max()-gray.min())*(gray - gray.min())).astype(np.uint8)\n",
    "    # convert gray level img to BGR\n",
    "    img = cv2.cvtColor(gray,cv2.COLOR_GRAY2BGR)\n",
    "    return img\n",
    "####### pre processing 3 - noise reduction \n",
    "resizeNnoisereduction = []\n",
    "for img in train:\n",
    "    img = cv2.resize(img,new_size)\n",
    "    img = cv2.fastNlMeansDenoising(img)\n",
    "    resizeNnoisereduction.append(img)\n",
    "ProcessedImages = []\n",
    "for img in resizeNnoisereduction:\n",
    "    img = power_law_transform(img,1,0.5)\n",
    "    ProcessedImages.append(img)"
   ]
  },
  {
   "cell_type": "code",
   "execution_count": 13,
   "id": "f435d9fe",
   "metadata": {},
   "outputs": [
    {
     "name": "stdout",
     "output_type": "stream",
     "text": [
      "cleavers\n",
      ".DS_Store\n",
      "charlock\n"
     ]
    }
   ],
   "source": [
    "test = []\n",
    "testlabels = []\n",
    "for weed in os.listdir(os.path.join(rtDirectory, 'test')):\n",
    "    print(weed)\n",
    "    if os.path.isdir(os.path.join(rtDirectory, 'test', weed)):\n",
    "        for img in os.listdir(os.path.join(rtDirectory, 'test', weed)):\n",
    "            if img.endswith(\".jpg\") or img.endswith(\".png\"):  # Adjust the file extensions as per your image types\n",
    "                test.append(cv2.imread(os.path.join(rtDirectory, 'test', weed, img)))\n",
    "                testlabels.append(weed)\n",
    "\n",
    "def processfunc(img):\n",
    "    processingfunc = []\n",
    "    for i in img:\n",
    "        img = cv2.resize(i, (236, 236))\n",
    "        img = cv2.fastNlMeansDenoising(img)\n",
    "        processingfunc.append(img)\n",
    "    return processingfunc \n",
    "\n",
    "test = processfunc(test)\n",
    "\n",
    "\n"
   ]
  },
  {
   "cell_type": "code",
   "execution_count": 14,
   "id": "960ec941",
   "metadata": {
    "scrolled": true
   },
   "outputs": [
    {
     "name": "stdout",
     "output_type": "stream",
     "text": [
      "(480, 3) (158, 3)\n"
     ]
    }
   ],
   "source": [
    "#OPTION 3 Haris Corner Detecion +Hyperparamter tuning \n",
    "# Feature extraction using Harris corner detection\n",
    "def harris_corner_detection(img):\n",
    "    gray = cv2.cvtColor(img, cv2.COLOR_BGR2GRAY)\n",
    "    gray = np.float32(gray)\n",
    "    corners = cv2.cornerHarris(gray, 2, 3, 0.04)\n",
    "    corners = cv2.dilate(corners, None)\n",
    "    img[corners > 0.01 * corners.max()] = [0, 0, 255]\n",
    "    return img\n",
    "HarrisTrainVals = []\n",
    "for img in train:\n",
    "    img_harris = harris_corner_detection(img)\n",
    "    harris_vals = np.mean(np.array(img_harris), axis=(0, 1))\n",
    "    HarrisTrainVals.append(harris_vals)\n",
    "# Convert lists to numpy arrays\n",
    "X_train_harris = np.array(HarrisTrainVals)\n",
    "HarrisTestVals = []\n",
    "for img in test:\n",
    "    img_harris = harris_corner_detection(img)\n",
    "    harris_vals = np.mean(np.array(img_harris), axis=(0, 1))\n",
    "    HarrisTestVals.append(harris_vals)\n",
    "# Convert lists to numpy arrays\n",
    "X_test_harris = np.array(HarrisTestVals)\n",
    "# Concatenate the Harris corner detection features\n",
    "X_train = X_train_harris\n",
    "X_test = X_test_harris\n",
    "# Check the dimension of X_train and X_test after feature concatenation\n",
    "print(X_train.shape, X_test.shape)\n",
    "\n"
   ]
  },
  {
   "cell_type": "code",
   "execution_count": 16,
   "id": "5eaf8777",
   "metadata": {},
   "outputs": [],
   "source": [
    "# Define the target labels for the training set\n",
    "y_train = []\n",
    "for weed in os.listdir(os.path.join(rtDirectory, 'train')):\n",
    "    if os.path.isdir(os.path.join(rtDirectory, 'train', weed)):\n",
    "        for img in os.listdir(os.path.join(rtDirectory, 'train', weed)):\n",
    "            if img.endswith(\".jpg\") or img.endswith(\".png\"):\n",
    "                y_train.append(weed)\n",
    "\n",
    "# Convert the list to a numpy array\n",
    "y_train = np.array(y_train)\n",
    "\n",
    "\n",
    "# Define the target labels for the test set\n",
    "y_test = []\n",
    "for weed in os.listdir(os.path.join(rtDirectory, 'test')):\n",
    "    if os.path.isdir(os.path.join(rtDirectory, 'test', weed)):\n",
    "        for img in os.listdir(os.path.join(rtDirectory, 'test', weed)):\n",
    "            if img.endswith(\".jpg\") or img.endswith(\".png\"):\n",
    "                y_test.append(weed)\n",
    "\n",
    "# Convert the list to a numpy array\n",
    "y_test = np.array(y_test)"
   ]
  },
  {
   "cell_type": "code",
   "execution_count": 17,
   "id": "cc4d7736",
   "metadata": {},
   "outputs": [
    {
     "name": "stdout",
     "output_type": "stream",
     "text": [
      "Test Accuracy: 0.759493670886076\n",
      "Best Hyperparameters: {'C': 1, 'max_iter': 500, 'penalty': 'l1', 'solver': 'liblinear'}\n"
     ]
    }
   ],
   "source": [
    "from sklearn.model_selection import GridSearchCV\n",
    "from sklearn.linear_model import LogisticRegression\n",
    "from sklearn.metrics import accuracy_score\n",
    "#############OPTION 3 HCD +HYPERPARAMTER TUNING ##############\n",
    "# Define the hyperparameters and their respective values to search over\n",
    "parameters = {'C': [0.1, 1, 10],'penalty': ['l1', 'l2'],'solver': ['liblinear'],'max_iter': [500, 1000, 2000]}\n",
    "# Create an instance of the Logistic Regression model\n",
    "logistic_regression = LogisticRegression()\n",
    "# Create a GridSearchCV object\n",
    "grid_search = GridSearchCV(logistic_regression, parameters, scoring='accuracy')\n",
    "# Fit the GridSearchCV object to the training data\n",
    "grid_search.fit(X_train_harris, y_train)\n",
    "# Access the best hyperparameters and the best estimator\n",
    "best_params = grid_search.best_params_\n",
    "best_estimator = grid_search.best_estimator_\n",
    "# Use the best estimator to make predictions on the test data\n",
    "y_pred = best_estimator.predict(X_test_harris)\n",
    "# Evaluate the performance of the best estimator\n",
    "accuracy = accuracy_score(y_test, y_pred)\n",
    "print(\"Test Accuracy:\", accuracy)\n",
    "# Print the best hyperparameters\n",
    "print(\"Best Hyperparameters:\", best_params)\n"
   ]
  },
  {
   "cell_type": "code",
   "execution_count": 18,
   "id": "9b256ded",
   "metadata": {},
   "outputs": [
    {
     "name": "stdout",
     "output_type": "stream",
     "text": [
      "Training Accuracy: 0.7395833333333334\n",
      "Test Accuracy: 0.7531645569620253\n",
      "F1-score: 0.7368398411254576\n",
      "Precision: 0.7820744656187695\n",
      "Recall: 0.7531645569620253\n"
     ]
    },
    {
     "data": {
      "image/png": "[encoded data removed]",
      "text/plain": [
       "<Figure size 1000x500 with 2 Axes>"
      ]
     },
     "metadata": {},
     "output_type": "display_data"
    }
   ],
   "source": [
    "from sklearn.linear_model import LogisticRegression\n",
    "from sklearn.metrics import accuracy_score, f1_score, precision_score, recall_score, confusion_matrix\n",
    "import matplotlib.pyplot as plt\n",
    "from sklearn.metrics import ConfusionMatrixDisplay\n",
    "#########################OPTION 3 HCD  +HYPERTUNING ##########################\n",
    "# Create a new instance of LogisticRegression with the best hyperparameters\n",
    "best_params = {'C': 10, 'max_iter': 500, 'penalty': 'l1', 'solver': 'liblinear'}\n",
    "clf = LogisticRegression(**best_params)\n",
    "# Fit the model to the training data\n",
    "clf.fit(X_train, y_train)\n",
    "# Model evaluation on training data\n",
    "train_accuracy = clf.score(X_train, y_train)\n",
    "print(\"Training Accuracy:\", train_accuracy)\n",
    "# Predict the labels in the test dataset\n",
    "y_test_predict = clf.predict(X_test)\n",
    "# Overall Accuracy\n",
    "test_accuracy = accuracy_score(y_test, y_test_predict)\n",
    "print(\"Test Accuracy:\", test_accuracy)\n",
    "# F1-score\n",
    "f1 = f1_score(y_test, y_test_predict, average='weighted')\n",
    "print(\"F1-score:\", f1)\n",
    "# Precision\n",
    "precision = precision_score(y_test, y_test_predict, average='weighted')\n",
    "print(\"Precision:\", precision)\n",
    "# Recall\n",
    "recall = recall_score(y_test, y_test_predict, average='weighted')\n",
    "print(\"Recall:\", recall)\n",
    "# Confusion Matrix\n",
    "cm = confusion_matrix(y_test, y_test_predict)\n",
    "disp = ConfusionMatrixDisplay(confusion_matrix=cm, display_labels=clf.classes_)\n",
    "fig, ax = plt.subplots(figsize=(10, 5))\n",
    "disp.plot(ax=ax)\n",
    "plt.show()"
   ]
  },
  {
   "cell_type": "code",
   "execution_count": null,
   "id": "2b0e28ce",
   "metadata": {},
   "outputs": [],
   "source": []
  }
 ],
 "metadata": {
  "kernelspec": {
   "display_name": "Python 3 (ipykernel)",
   "language": "python",
   "name": "python3"
  },
  "language_info": {
   "codemirror_mode": {
    "name": "ipython",
    "version": 3
   },
   "file_extension": ".py",
   "mimetype": "text/x-python",
   "name": "python",
   "nbconvert_exporter": "python",
   "pygments_lexer": "ipython3",
   "version": "3.11.0"
  }
 },
 "nbformat": 4,
 "nbformat_minor": 5
}
