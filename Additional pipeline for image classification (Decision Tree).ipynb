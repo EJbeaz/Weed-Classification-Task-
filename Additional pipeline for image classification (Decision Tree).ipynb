{
 "cells": [
  {
   "cell_type": "code",
   "execution_count": 3,
   "id": "323e949c",
   "metadata": {},
   "outputs": [
    {
     "name": "stdout",
     "output_type": "stream",
     "text": [
      "cleavers\n",
      "charlock\n"
     ]
    }
   ],
   "source": [
    "import cv2\n",
    "import os\n",
    "import numpy as np\n",
    "import matplotlib.pyplot as plt\n",
    "import os\n",
    "import cv2\n",
    "import numpy as np\n",
    "import matplotlib.pyplot as plt\n",
    "# Preprocessing 1 - Resize\n",
    "rtDirectory = '/Users/ejbeazleigh/Downloads/ImageProcessing/WeedData'\n",
    "train = []\n",
    "labels = []\n",
    "for weed in os.listdir(os.path.join(rtDirectory, 'train')):\n",
    "    if weed == '.DS_Store':\n",
    "        continue  # Skip the .DS_Store file\n",
    "    print(weed)  # Checking directory is working\n",
    "    for img in os.listdir(os.path.join(rtDirectory, 'train', weed)):\n",
    "        train.append(cv2.imread(os.path.join(rtDirectory, 'train', weed, img)))\n",
    "        labels.append(weed)\n",
    "new_size = (236, 236)\n",
    "# Preprocessing 2 - Hough Transform, resize, denoising and sharpening \n",
    "def preprocess_image(img):\n",
    "    img = cv2.resize(img, new_size)\n",
    "    img = cv2.fastNlMeansDenoisingColored(img, None, 10, 10, 7, 21)\n",
    "    kernel = np.array([[-1, -1, -1], [-1, 9, -1], [-1, -1, -1]])\n",
    "    img = cv2.filter2D(img, -1, kernel)\n",
    "    gray = cv2.cvtColor(img, cv2.COLOR_BGR2GRAY)\n",
    "# Apply Hough Transform\n",
    "    edges = cv2.Canny(gray, 50, 150)  # Perform edge detection\n",
    "    lines = cv2.HoughLines(edges, 1, np.pi / 180, threshold=100)  # Apply Hough Transform\n",
    "    if lines is not None:\n",
    "        for line in lines:\n",
    "            rho, theta = line[0]\n",
    "            a = np.cos(theta)\n",
    "            b = np.sin(theta)\n",
    "            x0 = a * rho\n",
    "            y0 = b * rho\n",
    "            x1 = int(x0 + 1000 * (-b))\n",
    "            y1 = int(y0 + 1000 * (a))\n",
    "            x2 = int(x0 - 1000 * (-b))\n",
    "            y2 = int(y0 - 1000 * (a))\n",
    "            cv2.line(img, (x1, y1), (x2, y2), (0, 0, 255), 2)  # Draw detected lines on the image\n",
    "    return img\n",
    "# Apply preprocessing to each image in the 'train' list\n",
    "train_preprocessed = [preprocess_image(img) for img in train]"
   ]
  },
  {
   "cell_type": "code",
   "execution_count": 4,
   "id": "6838e0a2",
   "metadata": {},
   "outputs": [
    {
     "name": "stdout",
     "output_type": "stream",
     "text": [
      "(480, 3) (480,)\n"
     ]
    }
   ],
   "source": [
    "######################### RGB feature extraction ##########################\n",
    "RGBtrainvals = []\n",
    "for img in train_preprocessed:\n",
    "    rgb = np.mean(np.array(img), axis=(0, 1))\n",
    "    RGBtrainvals.append(rgb)\n",
    "# Convert lists to numpy arrays\n",
    "X_train = np.array(RGBtrainvals)\n",
    "y_train = np.array(labels)\n",
    "# Check the dimension of X_train and y_train\n",
    "print(X_train.shape, y_train.shape)\n",
    "\n"
   ]
  },
  {
   "cell_type": "code",
   "execution_count": 6,
   "id": "73463f85",
   "metadata": {},
   "outputs": [
    {
     "name": "stdout",
     "output_type": "stream",
     "text": [
      "cleavers\n",
      "charlock\n",
      "(158, 3) (158,)\n",
      "cleavers\n",
      "charlock\n",
      "(0,) (0,)\n"
     ]
    }
   ],
   "source": [
    "import os\n",
    "import cv2\n",
    "import numpy as np\n",
    "# Preprocessing and feature extraction for test data\n",
    "test = []\n",
    "testlabels = []\n",
    "for weed in os.listdir(os.path.join(rtDirectory, 'test')):\n",
    "    if weed == '.DS_Store':\n",
    "        continue  # Skip the .DS_Store file\n",
    "    print(weed)  # Checking directory is working\n",
    "    for img in os.listdir(os.path.join(rtDirectory, 'test', weed)):\n",
    "        test.append(cv2.imread(os.path.join(rtDirectory, 'test', weed, img)))\n",
    "        testlabels.append(weed)\n",
    "# Apply preprocessing to each image in the 'test' list\n",
    "test_preprocessed = [preprocess_image(img) for img in test]\n",
    "# Feature extraction for test data\n",
    "RGBtestvals = []\n",
    "for img in test:\n",
    "    rgb = np.mean(np.array(img), axis=(0, 1))\n",
    "    RGBtestvals.append(rgb)\n",
    "# Convert lists to numpy arrays\n",
    "X_test = np.array(RGBtestvals)\n",
    "y_test = np.array(testlabels)\n",
    "# Check the dimension of X_test and y_test\n",
    "print(X_test.shape, y_test.shape)\n",
    "\n",
    "##############################################################################################\n",
    "\n",
    "# Preprocessing and feature extraction for validation data\n",
    "val = []\n",
    "vallabels = []\n",
    "for weed in os.listdir(os.path.join(rtDirectory, 'val')):\n",
    "    if weed == '.DS_Store':\n",
    "        continue  # Skip the .DS_Store file\n",
    "    print(weed)  # Checking directory is working\n",
    "    for img in os.listdir(os.path.join(rtDirectory, 'val', weed)):\n",
    "        test.append(cv2.imread(os.path.join(rtDirectory, 'val', weed, img)))\n",
    "        testlabels.append(weed)\n",
    "# Apply preprocessing to each image in the 'val' list\n",
    "val_preprocessed = [preprocess_image(img) for img in val]\n",
    "# Feature extraction for validation data\n",
    "RGBvalvals = []\n",
    "for img in val:\n",
    "    rgb = np.mean(np.array(img), axis=(0, 1))\n",
    "    RGBvalvals.append(rgb)\n",
    "# Convert lists to numpy arrays\n",
    "X_val = np.array(RGBvalvals)\n",
    "y_val = np.array(vallabels)\n",
    "# Check the dimension of X_val and y_val\n",
    "print(X_val.shape, y_val.shape)\n"
   ]
  },
  {
   "cell_type": "code",
   "execution_count": 7,
   "id": "b0a1d051",
   "metadata": {},
   "outputs": [],
   "source": [
    "from sklearn.tree import DecisionTreeClassifier\n",
    "from sklearn.metrics import f1_score, accuracy_score, recall_score, precision_score\n",
    "from sklearn.model_selection import GridSearchCV\n",
    "\n",
    "# Define the Decision Tree classifier\n",
    "dt_classifier = DecisionTreeClassifier()\n",
    "\n",
    "# Define the parameter grid for hyperparameter tuning\n",
    "param_grid = {'criterion': ['gini', 'entropy'],'max_depth': [None, 5, 10, 15],\n",
    "              'min_samples_split': [2, 5, 10],'min_samples_leaf': [1, 2, 4]}\n",
    "\n",
    "# Perform GridSearchCV for hyperparameter tuning\n",
    "grid_search = GridSearchCV(dt_classifier, param_grid, cv=2, scoring='f1_macro')\n",
    "grid_search.fit(X_train, y_train)\n",
    "\n",
    "# Get the best parameters from the hyperparameter tuning\n",
    "best_params = grid_search.best_params_\n",
    "\n"
   ]
  },
  {
   "cell_type": "code",
   "execution_count": 8,
   "id": "c19a41c3",
   "metadata": {},
   "outputs": [
    {
     "name": "stdout",
     "output_type": "stream",
     "text": [
      "Training Accuracy: 0.9041666666666667\n",
      "Test Accuracy: 0.7215189873417721\n",
      "F1-score: 0.7129371379532289\n",
      "Precision: 0.7245991561181434\n",
      "Recall: 0.7215189873417721\n"
     ]
    },
    {
     "data": {
      "image/png": "[encoded data removed]",
      "text/plain": [
       "<Figure size 1000x500 with 2 Axes>"
      ]
     },
     "metadata": {},
     "output_type": "display_data"
    }
   ],
   "source": [
    "from sklearn.tree import DecisionTreeClassifier\n",
    "from sklearn.metrics import f1_score, accuracy_score, recall_score, precision_score\n",
    "from sklearn.model_selection import GridSearchCV\n",
    "from sklearn.metrics import confusion_matrix, ConfusionMatrixDisplay\n",
    "import matplotlib.pyplot as plt\n",
    "\n",
    "# Define the Decision Tree classifier with the best hyperparameters from gridsearch\n",
    "best_params = {'criterion': 'gini', 'max_depth': None, 'min_samples_leaf': 2, 'min_samples_split': 10}\n",
    "dt_classifier = DecisionTreeClassifier(**best_params)\n",
    "# Fit the model to the training data\n",
    "dt_classifier.fit(X_train, y_train)\n",
    "# Model evaluation on training data\n",
    "train_accuracy = dt_classifier.score(X_train, y_train)\n",
    "print(\"Training Accuracy:\", train_accuracy)\n",
    "# Predict the labels in the test dataset\n",
    "y_test_predict = dt_classifier.predict(X_test)\n",
    "\n",
    "# Overall Accuracy, F1-score, Precision, and Recall\n",
    "test_accuracy = accuracy_score(y_test, y_test_predict)\n",
    "print(\"Test Accuracy:\", test_accuracy)\n",
    "f1 = f1_score(y_test, y_test_predict, average='weighted')\n",
    "print(\"F1-score:\", f1)\n",
    "precision = precision_score(y_test, y_test_predict, average='weighted')\n",
    "print(\"Precision:\", precision)\n",
    "recall = recall_score(y_test, y_test_predict, average='weighted')\n",
    "print(\"Recall:\", recall)\n",
    "# Confusion Matrix\n",
    "cm = confusion_matrix(y_test, y_test_predict)\n",
    "disp = ConfusionMatrixDisplay(confusion_matrix=cm, display_labels=dt_classifier.classes_)\n",
    "fig, ax = plt.subplots(figsize=(10, 5))\n",
    "disp.plot(ax=ax)\n",
    "plt.show()\n"
   ]
  },
  {
   "cell_type": "code",
   "execution_count": null,
   "id": "1a5c6642",
   "metadata": {},
   "outputs": [],
   "source": []
  }
 ],
 "metadata": {
  "kernelspec": {
   "display_name": "Python 3 (ipykernel)",
   "language": "python",
   "name": "python3"
  },
  "language_info": {
   "codemirror_mode": {
    "name": "ipython",
    "version": 3
   },
   "file_extension": ".py",
   "mimetype": "text/x-python",
   "name": "python",
   "nbconvert_exporter": "python",
   "pygments_lexer": "ipython3",
   "version": "3.11.0"
  }
 },
 "nbformat": 4,
 "nbformat_minor": 5
}
