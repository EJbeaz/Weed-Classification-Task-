{
 "cells": [
  {
   "cell_type": "code",
   "execution_count": 2,
   "id": "4669da50",
   "metadata": {},
   "outputs": [
    {
     "name": "stdout",
     "output_type": "stream",
     "text": [
      "cleavers\n",
      "charlock\n"
     ]
    }
   ],
   "source": [
    "import cv2\n",
    "import numpy as np\n",
    "import os\n",
    "\n",
    "# Preprocessing 1 - creating lists and defining resize\n",
    "rtDirectory = '/Users/ejbeazleigh/Downloads/ImageProcessing/WeedData'\n",
    "train = []\n",
    "labels = []\n",
    "new_size = (236, 236)\n",
    "# Preprocessing 2 - Denoise, Sharpening, Brightness Normalization, and Resize\n",
    "def preprocess_image(img):\n",
    "    img = cv2.fastNlMeansDenoisingColored(img, None, 10, 10, 7, 21) # Denoising\n",
    "    kernel = np.array([[-1, -1, -1], [-1, 9, -1], [-1, -1, -1]]) # Sharpening\n",
    "    img = cv2.filter2D(img, -1, kernel)\n",
    "    img = cv2.cvtColor(img, cv2.COLOR_BGR2HSV)# Brightness normalization\n",
    "    h, s, v = cv2.split(img)\n",
    "    v = cv2.equalizeHist(v)\n",
    "    img = cv2.merge((h, s, v))\n",
    "    img = cv2.cvtColor(img, cv2.COLOR_HSV2BGR)\n",
    "    img = cv2.resize(img, new_size)# Resize\n",
    "    return img\n",
    "for weed in os.listdir(os.path.join(rtDirectory, 'train')):\n",
    "    if os.path.isdir(os.path.join(rtDirectory, 'train', weed)):\n",
    "        print(weed)\n",
    "        for img in os.listdir(os.path.join(rtDirectory, 'train', weed)):\n",
    "            img_path = os.path.join(rtDirectory, 'train', weed, img)\n",
    "            img = cv2.imread(img_path)\n",
    "            gray = cv2.cvtColor(img, cv2.COLOR_BGR2GRAY)\n",
    "# Initialize SIFT detector\n",
    "            sift = cv2.SIFT_create()\n",
    "# Detect keypoints and compute descriptors,Draw keypoints on the image,Preprocess the image\n",
    "            keypoints, descriptors = sift.detectAndCompute(gray, None)\n",
    "            img_with_keypoints = cv2.drawKeypoints(img, keypoints, None, flags=cv2.DRAW_MATCHES_FLAGS_DRAW_RICH_KEYPOINTS)\n",
    "            preprocessed_img = preprocess_image(img_with_keypoints)\n",
    "            train.append(preprocessed_img)\n",
    "            labels.append(weed)\n",
    "# Apply preprocessing to each image in the 'train' list\n",
    "train_preprocessed = [preprocess_image(img) for img in train]\n"
   ]
  },
  {
   "cell_type": "code",
   "execution_count": 4,
   "id": "6c69900c",
   "metadata": {},
   "outputs": [
    {
     "name": "stdout",
     "output_type": "stream",
     "text": [
      "cleavers\n",
      "charlock\n"
     ]
    }
   ],
   "source": [
    "import cv2\n",
    "import numpy as np\n",
    "import os\n",
    "################ REPEATING PROCEDURE FOR TEST DATA################\n",
    "# Preprocessing 1 - creating lists and defining resize\n",
    "rtDirectory = '/Users/ejbeazleigh/Downloads/ImageProcessing/WeedData'\n",
    "test = []\n",
    "test_labels = []\n",
    "\n",
    "# Preprocessing 2 - Denoise, Sharpening, Brightness Normalization, and Resize\n",
    "def preprocess_image(img):\n",
    "    # Denoising\n",
    "    img = cv2.fastNlMeansDenoisingColored(img, None, 10, 10, 7, 21)\n",
    "    # Sharpening\n",
    "    kernel = np.array([[-1, -1, -1], [-1, 9, -1], [-1, -1, -1]])\n",
    "    img = cv2.filter2D(img, -1, kernel)\n",
    "    # Brightness normalization\n",
    "    img = cv2.cvtColor(img, cv2.COLOR_BGR2HSV)\n",
    "    h, s, v = cv2.split(img)\n",
    "    v = cv2.equalizeHist(v)\n",
    "    img = cv2.merge((h, s, v))\n",
    "    img = cv2.cvtColor(img, cv2.COLOR_HSV2BGR)\n",
    "    # Resize\n",
    "    img = cv2.resize(img, new_size)\n",
    "    return img\n",
    "for weed in os.listdir(os.path.join(rtDirectory, 'test')):\n",
    "    if os.path.isdir(os.path.join(rtDirectory, 'test', weed)):\n",
    "        print(weed)\n",
    "        for img in os.listdir(os.path.join(rtDirectory, 'test', weed)):\n",
    "            img_path = os.path.join(rtDirectory, 'test', weed, img)\n",
    "            img = cv2.imread(img_path)\n",
    "            gray = cv2.cvtColor(img, cv2.COLOR_BGR2GRAY)\n",
    "# Initialize SIFT detector\n",
    "            sift = cv2.SIFT_create()\n",
    "            keypoints, descriptors = sift.detectAndCompute(gray, None)\n",
    "            img_with_keypoints = cv2.drawKeypoints(img, keypoints, None, flags=cv2.DRAW_MATCHES_FLAGS_DRAW_RICH_KEYPOINTS)\n",
    "            preprocessed_img = preprocess_image(img_with_keypoints)\n",
    "            test.append(preprocessed_img)\n",
    "            test_labels.append(weed)\n",
    "# Apply preprocessing to each image in the 'test' list\n",
    "test_preprocessed = [preprocess_image(img) for img in test]\n"
   ]
  },
  {
   "cell_type": "code",
   "execution_count": 5,
   "id": "90bb85c9",
   "metadata": {},
   "outputs": [],
   "source": [
    "import numpy as np\n",
    "\n",
    "# Convert training data and labels to NumPy arrays\n",
    "train_data = np.array(train_preprocessed)\n",
    "train_labels = np.array(labels)\n",
    "\n",
    "# Convert test data and labels to NumPy arrays\n",
    "test_data = np.array(test_preprocessed)\n",
    "test_labels = np.array(test_labels)\n",
    "\n",
    "from sklearn.preprocessing import LabelEncoder\n",
    "\n",
    "# Convert the labels to numerical values\n",
    "#label_encoder = LabelEncoder()\n",
    "#train_labels_encoded = label_encoder.fit_transform(train_labels)\n",
    "#test_labels_encoded = label_encoder.transform(test_labels)\n",
    "#print(test_labels_encoded.shape)\n",
    "#print(train_labels_encoded.shape)"
   ]
  },
  {
   "cell_type": "code",
   "execution_count": 46,
   "id": "d2b8b779",
   "metadata": {},
   "outputs": [
    {
     "name": "stdout",
     "output_type": "stream",
     "text": [
      "Accuracy: 0.44936708860759494\n",
      "Precision: 0.7193548387096774\n",
      "Recall: 0.5166666666666667\n",
      "F1-score: 0.33719079994213796\n"
     ]
    },
    {
     "data": {
      "image/png": "[encoded data removed]",
      "text/plain": [
       "<Figure size 1000x500 with 2 Axes>"
      ]
     },
     "metadata": {},
     "output_type": "display_data"
    }
   ],
   "source": [
    "from sklearn.neighbors import KNeighborsClassifier\n",
    "from sklearn.metrics import accuracy_score, precision_score, recall_score, f1_score\n",
    "# Create a KNN classifier\n",
    "knn = KNeighborsClassifier(n_neighbors=5)\n",
    "# Flatten the training data to 1D\n",
    "train_data_flat = train_data.reshape(train_data.shape[0], -1)\n",
    "# Flatten the test data to 1D\n",
    "test_data_flat = test_data.reshape(test_data.shape[0], -1)\n",
    "# Fit the KNN model on the training data\n",
    "knn.fit(train_data_flat, train_labels)\n",
    "# Make predictions on the test data\n",
    "predictions = knn.predict(test_data_flat)\n",
    "# Calculate accuracy\n",
    "accuracy = accuracy_score(test_labels, predictions)\n",
    "# Calculate precision\n",
    "precision = precision_score(test_labels, predictions, average='macro')\n",
    "# Calculate recall\n",
    "recall = recall_score(test_labels, predictions, average='macro')\n",
    "# Calculate F1-score\n",
    "f1 = f1_score(test_labels, predictions, average='macro')\n",
    "# Print the scoring metrics\n",
    "print(\"Accuracy:\", accuracy)\n",
    "print(\"Precision:\", precision)\n",
    "print(\"Recall:\", recall)\n",
    "print(\"F1-score:\", f1)\n",
    "# Confusion Matrix\n",
    "cm = confusion_matrix(test_labels, predictions)\n",
    "disp = ConfusionMatrixDisplay(confusion_matrix=cm, display_labels=knn.classes_)\n",
    "fig, ax = plt.subplots(figsize=(10, 5))\n",
    "disp.plot(ax=ax)\n",
    "plt.show()"
   ]
  },
  {
   "cell_type": "code",
   "execution_count": 13,
   "id": "3cb6146e",
   "metadata": {},
   "outputs": [
    {
     "name": "stdout",
     "output_type": "stream",
     "text": [
      "F1-score: 0.7462477795032789\n",
      "Overall Accuracy: 0.759493670886076\n",
      "Recall: 0.759493670886076\n",
      "Precision: 0.7813805574608718\n"
     ]
    },
    {
     "data": {
      "image/png": "[encoded data removed]",
      "text/plain": [
       "<Figure size 1000x500 with 2 Axes>"
      ]
     },
     "metadata": {},
     "output_type": "display_data"
    }
   ],
   "source": [
    "from sklearn.ensemble import RandomForestClassifier\n",
    "from sklearn.metrics import f1_score, accuracy_score, recall_score, precision_score\n",
    "from sklearn.metrics import confusion_matrix\n",
    "import matplotlib.pyplot as plt\n",
    "from sklearn.metrics import confusion_matrix, ConfusionMatrixDisplay\n",
    "# Create a Random Forest Classifier model\n",
    "rf_model = RandomForestClassifier(n_estimators=100, random_state=42)\n",
    "# Flatten the image data\n",
    "train_data_flattened = train_data.reshape(train_data.shape[0], -1)\n",
    "test_data_flattened = test_data.reshape(test_data.shape[0], -1)\n",
    "# Train the model\n",
    "rf_model.fit(train_data_flattened, train_labels)\n",
    "# Make predictions on the test data\n",
    "predictions = rf_model.predict(test_data_flattened)\n",
    "# Compute evaluation metrics\n",
    "f1 = f1_score(test_labels, predictions, average='weighted')\n",
    "accuracy = accuracy_score(test_labels, predictions)\n",
    "recall = recall_score(test_labels, predictions, average='weighted')\n",
    "precision = precision_score(test_labels, predictions, average='weighted')\n",
    "# Print the evaluation metrics\n",
    "print(\"F1-score:\", f1)\n",
    "print(\"Overall Accuracy:\", accuracy)\n",
    "print(\"Recall:\", recall)\n",
    "print(\"Precision:\", precision)\n",
    "# Compute the confusion matrix\n",
    "cm2 = confusion_matrix(test_labels, predictions)\n",
    "disp = ConfusionMatrixDisplay(confusion_matrix=cm2, display_labels=rf_model.classes_)\n",
    "fig, ax = plt.subplots(figsize=(10, 5))\n",
    "disp.plot(ax=ax)\n",
    "plt.show()\n"
   ]
  },
  {
   "cell_type": "code",
   "execution_count": null,
   "id": "23edc010",
   "metadata": {},
   "outputs": [],
   "source": []
  }
 ],
 "metadata": {
  "kernelspec": {
   "display_name": "Python 3 (ipykernel)",
   "language": "python",
   "name": "python3"
  },
  "language_info": {
   "codemirror_mode": {
    "name": "ipython",
    "version": 3
   },
   "file_extension": ".py",
   "mimetype": "text/x-python",
   "name": "python",
   "nbconvert_exporter": "python",
   "pygments_lexer": "ipython3",
   "version": "3.11.0"
  }
 },
 "nbformat": 4,
 "nbformat_minor": 5
}
